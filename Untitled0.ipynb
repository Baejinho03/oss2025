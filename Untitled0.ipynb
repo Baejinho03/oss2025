{
  "nbformat": 4,
  "nbformat_minor": 0,
  "metadata": {
    "colab": {
      "provenance": [],
      "authorship_tag": "ABX9TyNkyg4HGMMwIzb0cuPo9GCo",
      "include_colab_link": true
    },
    "kernelspec": {
      "name": "python3",
      "display_name": "Python 3"
    },
    "language_info": {
      "name": "python"
    }
  },
  "cells": [
    {
      "cell_type": "markdown",
      "metadata": {
        "id": "view-in-github",
        "colab_type": "text"
      },
      "source": [
        "<a href=\"https://colab.research.google.com/github/Baejinho03/oss2025/blob/main/Untitled0.ipynb\" target=\"_parent\"><img src=\"https://colab.research.google.com/assets/colab-badge.svg\" alt=\"Open In Colab\"/></a>"
      ]
    },
    {
      "cell_type": "code",
      "execution_count": null,
      "metadata": {
        "id": "kxcY06BT9GLQ"
      },
      "outputs": [],
      "source": [
        "# prompt: /정류소 도착정보 조회(정류장ID).csv 파일을 읽어서 31번 버스에 대한 정보들을 자세히 분석해주는 코드를 줘\n",
        "\n",
        "import pandas as pd\n",
        "\n",
        "# 파일 경로 설정 (Google Colab 환경에 맞게 수정)\n",
        "file_path = '/content/drive/MyDrive/정류소 도착정보 조회(정류장ID).csv'  # 파일 경로를 실제 경로로 변경\n",
        "\n",
        "try:\n",
        "    # CSV 파일 읽기\n",
        "    df = pd.read_csv(file_path, encoding='cp949')  # encoding을 cp949로 설정\n",
        "\n",
        "    # 31번 버스 정보 필터링\n",
        "    bus_31 = df[df['노선번호'] == '31']\n",
        "\n",
        "    if bus_31.empty:\n",
        "        print(\"31번 버스 정보가 없습니다.\")\n",
        "    else:\n",
        "        # 다양한 분석 수행\n",
        "        print(\"31번 버스 정보 분석:\")\n",
        "        print(\"-\" * 20)\n",
        "\n",
        "        # 기본 통계량 출력\n",
        "        print(\"기본 통계량:\")\n",
        "        print(bus_31.describe())\n",
        "        print(\"-\" * 20)\n",
        "\n",
        "        # 예시: 정류장별 도착 예정 시간 분석\n",
        "        print(\"정류장별 도착 예정 시간 분석:\")\n",
        "        arrival_times_by_station = bus_31.groupby('정류소명')['도착예정시간'].agg(['min', 'max', 'mean', 'median'])\n",
        "        print(arrival_times_by_station)\n",
        "        print(\"-\" * 20)\n",
        "\n",
        "        # 예시: 특정 열의 값 빈도수 확인\n",
        "        print(\"정류장별 운행횟수:\")\n",
        "        station_counts = bus_31['정류소명'].value_counts()\n",
        "        print(station_counts)\n",
        "        print(\"-\" * 20)\n",
        "\n",
        "\n",
        "        # 필요에 따라 다른 분석 추가 (예: 시간대별 분석, 평균 도착 시간, 지연 시간 분석 등)\n",
        "        # ...\n",
        "\n",
        "\n",
        "except FileNotFoundError:\n",
        "    print(f\"파일을 찾을 수 없습니다: {file_path}\")\n",
        "except pd.errors.ParserError:\n",
        "    print(f\"CSV 파일 파싱 오류: {file_path}\")\n",
        "except Exception as e:\n",
        "    print(f\"오류 발생: {e}\")\n"
      ]
    }
  ]
}