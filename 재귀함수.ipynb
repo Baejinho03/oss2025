{
  "nbformat": 4,
  "nbformat_minor": 0,
  "metadata": {
    "colab": {
      "provenance": [],
      "authorship_tag": "ABX9TyPyJsNTBPrQfF10AVUL7jtn",
      "include_colab_link": true
    },
    "kernelspec": {
      "name": "python3",
      "display_name": "Python 3"
    },
    "language_info": {
      "name": "python"
    }
  },
  "cells": [
    {
      "cell_type": "markdown",
      "metadata": {
        "id": "view-in-github",
        "colab_type": "text"
      },
      "source": [
        "<a href=\"https://colab.research.google.com/github/Baejinho03/oss2025/blob/main/%EC%9E%AC%EA%B7%80%ED%95%A8%EC%88%98.ipynb\" target=\"_parent\"><img src=\"https://colab.research.google.com/assets/colab-badge.svg\" alt=\"Open In Colab\"/></a>"
      ]
    },
    {
      "cell_type": "code",
      "execution_count": null,
      "metadata": {
        "id": "y_6-m55KLjH9"
      },
      "outputs": [],
      "source": []
    },
    {
      "cell_type": "markdown",
      "source": [
        "#재귀함수\n",
        "정의된 함수 f가 해당 함수를 구현하는 데 동일한 함수 f를 다시 이용하게 되는 것을 **재귀함수** 라고 부릅니다.\n",
        "  \n",
        "-  ex) n개의 줄에 걸쳐 5개의 별을 출력하는 문제  \n",
        "  *n = 3인 경우*    \n",
        "  \\*\\*\\*\\*\\*  \n",
        "  \\*\\*\\*\\*\\*  \n",
        "  \\*\\*\\*\\*\\*    \n",
        "\n",
        "\n",
        "  "
      ],
      "metadata": {
        "id": "xPy_G7fkLtGy"
      }
    },
    {
      "cell_type": "code",
      "source": [
        "def print_star(n):    # 1부터 n번째 줄까지 별을 출력하는 함수\n",
        "    print_star(n - 1) # 1부터 n - 1번째 줄까지 출력하는 함수\n",
        "    print(\"*\" * 5)    # n번째 줄에 해당하는 별 출력\n",
        "\n",
        "print_star(3)"
      ],
      "metadata": {
        "colab": {
          "base_uri": "https://localhost:8080/",
          "height": 373
        },
        "id": "VPv-j49zOQnM",
        "outputId": "fa84dcdf-1251-45ae-ea57-c802d3b0e4f1"
      },
      "execution_count": 7,
      "outputs": [
        {
          "output_type": "error",
          "ename": "RecursionError",
          "evalue": "maximum recursion depth exceeded",
          "traceback": [
            "\u001b[0;31m---------------------------------------------------------------------------\u001b[0m",
            "\u001b[0;31mRecursionError\u001b[0m                            Traceback (most recent call last)",
            "\u001b[0;32m<ipython-input-7-34d1227d9222>\u001b[0m in \u001b[0;36m<cell line: 0>\u001b[0;34m()\u001b[0m\n\u001b[1;32m      3\u001b[0m     \u001b[0mprint\u001b[0m\u001b[0;34m(\u001b[0m\u001b[0;34m\"*\"\u001b[0m \u001b[0;34m*\u001b[0m \u001b[0;36m5\u001b[0m\u001b[0;34m)\u001b[0m    \u001b[0;31m# n번째 줄에 해당하는 별 출력\u001b[0m\u001b[0;34m\u001b[0m\u001b[0;34m\u001b[0m\u001b[0m\n\u001b[1;32m      4\u001b[0m \u001b[0;34m\u001b[0m\u001b[0m\n\u001b[0;32m----> 5\u001b[0;31m \u001b[0mprint_star\u001b[0m\u001b[0;34m(\u001b[0m\u001b[0;36m3\u001b[0m\u001b[0;34m)\u001b[0m\u001b[0;34m\u001b[0m\u001b[0;34m\u001b[0m\u001b[0m\n\u001b[0m",
            "\u001b[0;32m<ipython-input-7-34d1227d9222>\u001b[0m in \u001b[0;36mprint_star\u001b[0;34m(n)\u001b[0m\n\u001b[1;32m      1\u001b[0m \u001b[0;32mdef\u001b[0m \u001b[0mprint_star\u001b[0m\u001b[0;34m(\u001b[0m\u001b[0mn\u001b[0m\u001b[0;34m)\u001b[0m\u001b[0;34m:\u001b[0m    \u001b[0;31m# 1부터 n번째 줄까지 별을 출력하는 함수\u001b[0m\u001b[0;34m\u001b[0m\u001b[0;34m\u001b[0m\u001b[0m\n\u001b[0;32m----> 2\u001b[0;31m     \u001b[0mprint_star\u001b[0m\u001b[0;34m(\u001b[0m\u001b[0mn\u001b[0m \u001b[0;34m-\u001b[0m \u001b[0;36m1\u001b[0m\u001b[0;34m)\u001b[0m \u001b[0;31m# 1부터 n - 1번째 줄까지 출력하는 함수\u001b[0m\u001b[0;34m\u001b[0m\u001b[0;34m\u001b[0m\u001b[0m\n\u001b[0m\u001b[1;32m      3\u001b[0m     \u001b[0mprint\u001b[0m\u001b[0;34m(\u001b[0m\u001b[0;34m\"*\"\u001b[0m \u001b[0;34m*\u001b[0m \u001b[0;36m5\u001b[0m\u001b[0;34m)\u001b[0m    \u001b[0;31m# n번째 줄에 해당하는 별 출력\u001b[0m\u001b[0;34m\u001b[0m\u001b[0;34m\u001b[0m\u001b[0m\n\u001b[1;32m      4\u001b[0m \u001b[0;34m\u001b[0m\u001b[0m\n\u001b[1;32m      5\u001b[0m \u001b[0mprint_star\u001b[0m\u001b[0;34m(\u001b[0m\u001b[0;36m3\u001b[0m\u001b[0;34m)\u001b[0m\u001b[0;34m\u001b[0m\u001b[0;34m\u001b[0m\u001b[0m\n",
            "... last 1 frames repeated, from the frame below ...\n",
            "\u001b[0;32m<ipython-input-7-34d1227d9222>\u001b[0m in \u001b[0;36mprint_star\u001b[0;34m(n)\u001b[0m\n\u001b[1;32m      1\u001b[0m \u001b[0;32mdef\u001b[0m \u001b[0mprint_star\u001b[0m\u001b[0;34m(\u001b[0m\u001b[0mn\u001b[0m\u001b[0;34m)\u001b[0m\u001b[0;34m:\u001b[0m    \u001b[0;31m# 1부터 n번째 줄까지 별을 출력하는 함수\u001b[0m\u001b[0;34m\u001b[0m\u001b[0;34m\u001b[0m\u001b[0m\n\u001b[0;32m----> 2\u001b[0;31m     \u001b[0mprint_star\u001b[0m\u001b[0;34m(\u001b[0m\u001b[0mn\u001b[0m \u001b[0;34m-\u001b[0m \u001b[0;36m1\u001b[0m\u001b[0;34m)\u001b[0m \u001b[0;31m# 1부터 n - 1번째 줄까지 출력하는 함수\u001b[0m\u001b[0;34m\u001b[0m\u001b[0;34m\u001b[0m\u001b[0m\n\u001b[0m\u001b[1;32m      3\u001b[0m     \u001b[0mprint\u001b[0m\u001b[0;34m(\u001b[0m\u001b[0;34m\"*\"\u001b[0m \u001b[0;34m*\u001b[0m \u001b[0;36m5\u001b[0m\u001b[0;34m)\u001b[0m    \u001b[0;31m# n번째 줄에 해당하는 별 출력\u001b[0m\u001b[0;34m\u001b[0m\u001b[0;34m\u001b[0m\u001b[0m\n\u001b[1;32m      4\u001b[0m \u001b[0;34m\u001b[0m\u001b[0m\n\u001b[1;32m      5\u001b[0m \u001b[0mprint_star\u001b[0m\u001b[0;34m(\u001b[0m\u001b[0;36m3\u001b[0m\u001b[0;34m)\u001b[0m\u001b[0;34m\u001b[0m\u001b[0;34m\u001b[0m\u001b[0m\n",
            "\u001b[0;31mRecursionError\u001b[0m: maximum recursion depth exceeded"
          ]
        }
      ]
    },
    {
      "cell_type": "markdown",
      "source": [
        "### 종료 조건\n",
        "위의 코드는 실행시키면 오류가 발생합니다.\n",
        "\n",
        " 그 이유는 print_star(5) 함수가 print_star(4)를 부르게 되고, 4는 3을, 3은 2를, ... 계속 무한정 부르게 될 것이기 때문입니다.  \n",
        "\n",
        " 재귀함수에서 가장 중요한 요소는 바로 __종료 조건__ 입니다.  \n",
        "\n",
        "- *n = 0인 경우*   \n",
        "  __함수 정의상 아무런 별을 출력하지 않고 재귀 함수를 빠져나와야 합니다__\n"
      ],
      "metadata": {
        "id": "GGNUEzKqOeYo"
      }
    },
    {
      "cell_type": "code",
      "source": [
        "def print_star(n):    # 1부터 n번째 줄까지 별을 출력하는 함수\n",
        "    if n == 0:        # n이 0이라면, 더 이상 진행하지 않고\n",
        "        return        # 퇴각합니다.\n",
        "\n",
        "    print_star(n - 1) # 1부터 n - 1번째 줄까지 출력하는 함수\n",
        "    print(\"*\" * 5)    # n번째 줄에 해당하는 별 출력\n",
        "\n",
        "print_star(3)\n"
      ],
      "metadata": {
        "colab": {
          "base_uri": "https://localhost:8080/"
        },
        "id": "gW-LuE6DRRgg",
        "outputId": "a19f43e1-474e-4839-9cbd-b85718005a4c"
      },
      "execution_count": 6,
      "outputs": [
        {
          "output_type": "stream",
          "name": "stdout",
          "text": [
            "*****\n",
            "*****\n",
            "*****\n"
          ]
        }
      ]
    }
  ]
}